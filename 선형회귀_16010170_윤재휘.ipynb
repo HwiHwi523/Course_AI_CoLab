{
  "nbformat": 4,
  "nbformat_minor": 0,
  "metadata": {
    "colab": {
      "name": "선형회귀_16010170_윤재휘.ipynb",
      "provenance": [],
      "collapsed_sections": [],
      "authorship_tag": "ABX9TyNeh/uwkQ+G49V4wzoNZnVX",
      "include_colab_link": true
    },
    "kernelspec": {
      "name": "python3",
      "display_name": "Python 3"
    },
    "accelerator": "GPU"
  },
  "cells": [
    {
      "cell_type": "markdown",
      "metadata": {
        "id": "view-in-github",
        "colab_type": "text"
      },
      "source": [
        "<a href=\"https://colab.research.google.com/github/HwiHwi523/Course_AI_CoLab/blob/master/%EC%84%A0%ED%98%95%ED%9A%8C%EA%B7%80_16010170_%EC%9C%A4%EC%9E%AC%ED%9C%98.ipynb\" target=\"_parent\"><img src=\"https://colab.research.google.com/assets/colab-badge.svg\" alt=\"Open In Colab\"/></a>"
      ]
    },
    {
      "cell_type": "code",
      "metadata": {
        "id": "M7uQD2uvTRWR",
        "colab_type": "code",
        "outputId": "e268d515-f648-4415-9a20-b99483b1480c",
        "colab": {
          "base_uri": "https://localhost:8080/",
          "height": 102
        }
      },
      "source": [
        "import numpy as np\n",
        "\n",
        "torch.manual_seed(1)\n",
        "\n",
        "# 데이터 파일 다운로드\n",
        "! curl 'https://raw.githubusercontent.com/sejongresearch/2020.Spring.AI/master/HW/cabbage_price.csv' -o 'cabbage_price.csv'\n",
        "print('Complete download data file')\n",
        "\n",
        "# 데이터 파일 로드\n",
        "xy = np.loadtxt('cabbage_price.csv', delimiter=',', dtype=np.float32, skiprows=1, usecols=range(1, 6))\n",
        "x_data = xy[:, 0:-1]\n",
        "y_data = xy[:, [-1]]\n",
        "print('Complete load data file')"
      ],
      "execution_count": 13,
      "outputs": [
        {
          "output_type": "stream",
          "text": [
            "  % Total    % Received % Xferd  Average Speed   Time    Time     Time  Current\n",
            "                                 Dload  Upload   Total   Spent    Left  Speed\n",
            "\r  0     0    0     0    0     0      0      0 --:--:-- --:--:-- --:--:--     0\r100 93044  100 93044    0     0  3634k      0 --:--:-- --:--:-- --:--:-- 3634k\n",
            "Complete download data file\n",
            "Complete load data file\n"
          ],
          "name": "stdout"
        }
      ]
    },
    {
      "cell_type": "code",
      "metadata": {
        "id": "LP8fmRQLzgXt",
        "colab_type": "code",
        "colab": {
          "base_uri": "https://localhost:8080/",
          "height": 391
        },
        "outputId": "cdc732e3-f85d-4f0f-be2c-ed80f61c1a9b"
      },
      "source": [
        "import torch\n",
        "import torch.optim as optim\n",
        "\n",
        "torch.manual_seed(1)\n",
        "\n",
        "x_train = torch.FloatTensor(x_data)\n",
        "y_train = torch.FloatTensor(y_data)\n",
        "\n",
        "W = torch.zeros((4, 1), requires_grad = True)\n",
        "b = torch.zeros(1, requires_grad = True)\n",
        "\n",
        "optimizer = optim.SGD([W, b], lr = 1e-3)\n",
        "\n",
        "nb_epochs = 100000\n",
        "for epoch in range(nb_epochs + 1):\n",
        "  \n",
        "  hypothesis = x_train.matmul(W) + b\n",
        "\n",
        "  cost = torch.mean((hypothesis - y_train) ** 2)\n",
        "\n",
        "  optimizer.zero_grad()\n",
        "  cost.backward()\n",
        "  optimizer.step()\n",
        "\n",
        "  if epoch % 5000 == 0:\n",
        "    print('Epoch {:6d}/{} W1 = {:10.4f} W2 = {:10.4f} W3 = {:10.4f} W4 = {:10.4f} b = {:10.4f} cost = {:20.6f}'.format(epoch, nb_epochs, W[0].item(), W[1].item(), W[2].item(), W[3].item(), b.item(), cost.item()))\n",
        "  \n",
        "print('Complete training')"
      ],
      "execution_count": 22,
      "outputs": [
        {
          "output_type": "stream",
          "text": [
            "Epoch      0/100000 W1 =    89.2981 W2 =    58.6304 W3 =   124.7292 W4 =    23.5272 b =     6.5530 cost =      12610017.000000\n",
            "Epoch   5000/100000 W1 =  -228.2960 W2 =    -5.7770 W3 =   265.8975 W4 =    24.8159 b =  1228.2407 cost =       1965989.000000\n",
            "Epoch  10000/100000 W1 =  -236.9654 W2 =    48.0522 W3 =   215.3081 W4 =    15.5632 b =  1893.7756 cost =       1873649.250000\n",
            "Epoch  15000/100000 W1 =  -197.0177 W2 =    56.3093 W3 =   164.6140 W4 =    10.2112 b =  2277.6162 cost =       1842603.250000\n",
            "Epoch  20000/100000 W1 =  -157.8283 W2 =    53.2021 W3 =   127.2927 W4 =     7.0592 b =  2503.2810 cost =       1831589.250000\n",
            "Epoch  25000/100000 W1 =  -129.1459 W2 =    48.6256 W3 =   102.5270 W4 =     5.1834 b =  2637.4463 cost =       1827612.750000\n",
            "Epoch  30000/100000 W1 =  -110.1598 W2 =    44.9629 W3 =    86.8349 W4 =     4.0602 b =  2717.7290 cost =       1826169.375000\n",
            "Epoch  35000/100000 W1 =   -98.1428 W2 =    42.4512 W3 =    77.1170 W4 =     3.3856 b =  2765.9373 cost =       1825644.500000\n",
            "Epoch  40000/100000 W1 =   -90.7067 W2 =    40.8355 W3 =    71.1715 W4 =     2.9796 b =  2794.9438 cost =       1825453.125000\n",
            "Epoch  45000/100000 W1 =   -86.1583 W2 =    39.8267 W3 =    67.5575 W4 =     2.7352 b =  2812.4097 cost =       1825383.750000\n",
            "Epoch  50000/100000 W1 =   -83.3932 W2 =    39.2083 W3 =    65.3662 W4 =     2.5875 b =  2822.9604 cost =       1825358.375000\n",
            "Epoch  55000/100000 W1 =   -81.7166 W2 =    38.8270 W3 =    64.0447 W4 =     2.4992 b =  2829.2668 cost =       1825349.250000\n",
            "Epoch  60000/100000 W1 =   -80.7055 W2 =    38.6022 W3 =    63.2420 W4 =     2.4449 b =  2833.1411 cost =       1825346.250000\n",
            "Epoch  65000/100000 W1 =   -80.0955 W2 =    38.4658 W3 =    62.7586 W4 =     2.4123 b =  2835.4668 cost =       1825345.000000\n",
            "Epoch  70000/100000 W1 =   -79.7394 W2 =    38.3756 W3 =    62.4879 W4 =     2.3953 b =  2836.6875 cost =       1825344.250000\n",
            "Epoch  75000/100000 W1 =   -79.5109 W2 =    38.3410 W3 =    62.2888 W4 =     2.3800 b =  2837.7773 cost =       1825344.000000\n",
            "Epoch  80000/100000 W1 =   -79.3958 W2 =    38.2861 W3 =    62.2298 W4 =     2.3793 b =  2837.8240 cost =       1825344.000000\n",
            "Epoch  85000/100000 W1 =   -79.3534 W2 =    38.2662 W3 =    62.2078 W4 =     2.3790 b =  2837.8447 cost =       1825343.750000\n",
            "Epoch  90000/100000 W1 =   -79.3518 W2 =    38.2655 W3 =    62.2069 W4 =     2.3790 b =  2837.8457 cost =       1825344.000000\n",
            "Epoch  95000/100000 W1 =   -79.3518 W2 =    38.2655 W3 =    62.2069 W4 =     2.3790 b =  2837.8457 cost =       1825344.000000\n",
            "Epoch 100000/100000 W1 =   -79.3518 W2 =    38.2655 W3 =    62.2069 W4 =     2.3790 b =  2837.8457 cost =       1825344.000000\n",
            "Complete training\n"
          ],
          "name": "stdout"
        }
      ]
    },
    {
      "cell_type": "code",
      "metadata": {
        "id": "sGiP5im_2ovw",
        "colab_type": "code",
        "colab": {
          "base_uri": "https://localhost:8080/",
          "height": 34
        },
        "outputId": "a71b7725-1277-4ca3-960f-ff39fc54fe29"
      },
      "source": [
        "weather_info = [-2.7, -6.6, 2.0, 0.1]\n",
        "weather_info = torch.FloatTensor(weather_info)\n",
        "\n",
        "prediction = weather_info.matmul(W) + b\n",
        "\n",
        "print('예상 금액 : {:10.4f}'.format(prediction.item()))"
      ],
      "execution_count": 28,
      "outputs": [
        {
          "output_type": "stream",
          "text": [
            "예상 금액 :  2924.1951\n"
          ],
          "name": "stdout"
        }
      ]
    },
    {
      "cell_type": "code",
      "metadata": {
        "id": "uWBD7Pnj676a",
        "colab_type": "code",
        "colab": {}
      },
      "source": [
        ""
      ],
      "execution_count": 0,
      "outputs": []
    }
  ]
}